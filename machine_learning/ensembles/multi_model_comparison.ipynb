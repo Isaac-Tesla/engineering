{
 "cells": [
  {
   "cell_type": "markdown",
   "metadata": {
    "_uuid": "c1a65c6a5f789f766b2c5c398d3b30951d6bb3c5"
   },
   "source": [
    "<h2>K-Nearest Neighbour Classification</h2>"
   ]
  },
  {
   "cell_type": "code",
   "execution_count": 5,
   "metadata": {
    "_cell_guid": "b1076dfc-b9ad-4769-8c92-a6c4dae69d19",
    "_uuid": "8f2839f25d086af736a60e9eeb907d3b93b6e0e5"
   },
   "outputs": [],
   "source": [
    "# Import libraries\n",
    "import numpy as np # linear algebra\n",
    "import pandas as pd # data processing\n",
    "import matplotlib as plt"
   ]
  },
  {
   "cell_type": "code",
   "execution_count": 6,
   "metadata": {
    "_uuid": "3816ffd532337c21975e3d9aeed9865c43133d98"
   },
   "outputs": [
    {
     "name": "stdout",
     "output_type": "stream",
     "text": [
      "Training instances:\t 7352 \n",
      "Testing instances:\t 2947 \n",
      "Training features:\t 561 \n",
      "Testing features:\t 561\n"
     ]
    }
   ],
   "source": [
    "# Read in datasets for X\n",
    "X_train = pd.read_fwf(\"~/data/X_train.txt\", colspecs='infer', header=None)\n",
    "X_test = pd.read_fwf(\"~/data/X_test.txt\", colspecs='infer', header=None)\n",
    "\n",
    "print(\"Training instances:\\t\", len(X_train.index),\n",
    "     \"\\nTesting instances:\\t\", len(X_test.index),\n",
    "     \"\\nTraining features:\\t\", len(X_train.columns),\n",
    "     \"\\nTesting features:\\t\", len(X_test.columns))"
   ]
  },
  {
   "cell_type": "code",
   "execution_count": 7,
   "metadata": {
    "_uuid": "cfdef607f261fb92b53074879a933b8a73d8eb32"
   },
   "outputs": [
    {
     "name": "stdout",
     "output_type": "stream",
     "text": [
      "Training instances:\t 7352 \n",
      "Testing instances:\t 2947 \n",
      "Training features:\t 1 \n",
      "Testing features:\t 1\n"
     ]
    }
   ],
   "source": [
    "# Read in datasets for Y\n",
    "Y_train = pd.read_fwf(\"~/data/y_train.txt\", colspecs='infer', header=None)\n",
    "Y_test = pd.read_fwf(\"~/data/y_test.txt\", colspecs='infer', header=None)\n",
    "\n",
    "print(\"Training instances:\\t\", len(Y_train.index),\n",
    "     \"\\nTesting instances:\\t\", len(Y_test.index),\n",
    "     \"\\nTraining features:\\t\", len(Y_train.columns),\n",
    "     \"\\nTesting features:\\t\", len(Y_test.columns))"
   ]
  },
  {
   "cell_type": "code",
   "execution_count": 8,
   "metadata": {
    "_uuid": "4ba1b715229be982b09fe430dc503540abe842fa"
   },
   "outputs": [
    {
     "name": "stdout",
     "output_type": "stream",
     "text": [
      "   0                   1\n",
      "0  1             WALKING\n",
      "1  2    WALKING_UPSTAIRS\n",
      "2  3  WALKING_DOWNSTAIRS\n",
      "3  4             SITTING\n",
      "4  5            STANDING\n",
      "5  6              LAYING\n"
     ]
    }
   ],
   "source": [
    "# Look at the labels of the dataset\n",
    "labels = pd.read_fwf(\"~/data/activity_labels.txt\", colspecs='infer', header=None)\n",
    "print(labels)"
   ]
  },
  {
   "cell_type": "markdown",
   "metadata": {
    "_uuid": "6db992ff4d81b25f1ee1c31e572e59845cccc24e"
   },
   "source": [
    "<h4>Let K take values from 1 to 50. For choosing the best K, use 10-fold cross-validation. Choose the best value of K based on model F1-score.</h4>"
   ]
  },
  {
   "cell_type": "code",
   "execution_count": 9,
   "metadata": {
    "_cell_guid": "79c7e3d0-c299-4dcb-8224-4455121ee9b0",
    "_uuid": "d629ff2d2480ee46fbb7e2d37f6b5fab8052498a"
   },
   "outputs": [],
   "source": [
    "# Import packages\n",
    "from sklearn.neighbors import KNeighborsClassifier\n",
    "from sklearn.metrics import accuracy_score, precision_score, recall_score, f1_score, classification_report, confusion_matrix\n",
    "from sklearn.model_selection import cross_val_score"
   ]
  },
  {
   "cell_type": "code",
   "execution_count": 14,
   "metadata": {
    "_uuid": "68290ec19acc0dd466c2253561400bc38fb4fb29"
   },
   "outputs": [
    {
     "name": "stdout",
     "output_type": "stream",
     "text": [
      "The best value of K based on model F1-score is  0.9095690552251193 \n",
      "This value is for K =  10\n"
     ]
    }
   ],
   "source": [
    "# Hide Sklearn warnings\n",
    "def warn(*args, **kwargs):\n",
    "    pass\n",
    "import warnings\n",
    "warnings.warn = warn\n",
    "\n",
    "# Set K to values 1 to 50\n",
    "K_values = range(1,51)\n",
    "\n",
    "# Initialise to store results\n",
    "results = []\n",
    "best_k = 0\n",
    "best_f1 = 0\n",
    "\n",
    "# Loop through all K_values for KNN and store in results (include f1_macro and accuracy)\n",
    "for number in K_values:\n",
    "    KNN = KNeighborsClassifier(n_neighbors=number)\n",
    "    result = cross_val_score(KNN, X_train, Y_train, cv=10, scoring='f1_macro')\n",
    "    results.append(result.mean())\n",
    "\n",
    "for index, item in enumerate(results):\n",
    "    if item == max(results):\n",
    "        best_k = index + 1 # As indexes start from zero in Python\n",
    "        best_f1 = item\n",
    "        print(\"The best value of K based on model F1-score is \", best_f1,\n",
    "              \"\\nThis value is for K = \", best_k)"
   ]
  },
  {
   "cell_type": "markdown",
   "metadata": {
    "_uuid": "a710aa43372b64ed0c13927fcf65351918c309ed"
   },
   "source": [
    "<h4>Show a plot of cross-validation accuracy with respect to K.</h4>"
   ]
  },
  {
   "cell_type": "code",
   "execution_count": 14,
   "metadata": {
    "_uuid": "a706e37bb8ad102a9a8788a855728c65d62aafb1"
   },
   "outputs": [
    {
     "data": {
      "image/png": "[encoded data removed]",
      "text/plain": [
       "<Figure size 432x288 with 1 Axes>"
      ]
     },
     "metadata": {},
     "output_type": "display_data"
    }
   ],
   "source": [
    "# Import packages\n",
    "import matplotlib.pyplot as plt\n",
    "\n",
    "# Build accuracy array\n",
    "KNN_accuracy = []\n",
    "\n",
    "for number in K_values:\n",
    "    KNN = KNeighborsClassifier(n_neighbors=number)\n",
    "    KNN_result = cross_val_score(KNN, X_train, Y_train, cv=10, scoring='accuracy')\n",
    "    KNN_accuracy.append(KNN_result.mean())\n",
    "\n",
    "# Build the plot\n",
    "plt.plot(K_values, KNN_accuracy)\n",
    "plt.title('Plot of Cross-Validation with Respect to K')\n",
    "plt.xlabel('K_value')\n",
    "plt.ylabel('KNN_accuracy')\n",
    "plt.show()"
   ]
  },
  {
   "cell_type": "markdown",
   "metadata": {
    "_uuid": "86b3c63cefee24d5321b51ebbbd39d3f93ec353e"
   },
   "source": [
    "<h4>Using the best K value, evaluate the model performance on the supplied test set. Report the confusion matrix, multi-class averaged F1-score and accuracy.</h4>"
   ]
  },
  {
   "cell_type": "code",
   "execution_count": 27,
   "metadata": {
    "_uuid": "51fbf3b1c166e4698c9db042362faa1163f515a3"
   },
   "outputs": [],
   "source": [
    "# Using the best value for K\n",
    "KNN_best = KNeighborsClassifier(n_neighbors=best_k)\n",
    "best_K_KNN_accuracy = cross_val_score(KNN_best, X_train, Y_train, cv=10, scoring='accuracy')\n",
    "best_K_KNN_f1_macro = cross_val_score(KNN_best, X_train, Y_train, cv=10, scoring='f1_macro')"
   ]
  },
  {
   "cell_type": "code",
   "execution_count": 28,
   "metadata": {},
   "outputs": [],
   "source": [
    "# Fit and predict\n",
    "KNN_best.fit(X_train, Y_train)\n",
    "predict = KNN_best.predict(X_test)"
   ]
  },
  {
   "cell_type": "code",
   "execution_count": 34,
   "metadata": {},
   "outputs": [],
   "source": [
    "# Import packages and calculate\n",
    "from sklearn.metrics import precision_recall_fscore_support\n",
    "precision, recall, fscore, support = precision_recall_fscore_support(Y_test, predict)"
   ]
  },
  {
   "cell_type": "code",
   "execution_count": 36,
   "metadata": {},
   "outputs": [
    {
     "name": "stdout",
     "output_type": "stream",
     "text": [
      "Multi-class average F1:  0.9013800312675501 \n",
      "Multi-class accuracy :  0.9043094672548354\n"
     ]
    }
   ],
   "source": [
    "# Multi-class average F1 and accuracy\n",
    "print('Multi-class average F1: ', fscore.mean(),\n",
    "      '\\nMulti-class accuracy : ', accuracy_score(Y_test,predict))"
   ]
  },
  {
   "cell_type": "code",
   "execution_count": 25,
   "metadata": {},
   "outputs": [
    {
     "name": "stdout",
     "output_type": "stream",
     "text": [
      "[[486   0  10   0   0   0]\n",
      " [ 39 427   5   0   0   0]\n",
      " [ 52  41 327   0   0   0]\n",
      " [  0   4   0 408  79   0]\n",
      " [  0   0   0  48 484   0]\n",
      " [  0   0   0   2   2 533]]\n"
     ]
    }
   ],
   "source": [
    "# Confusion matrix\n",
    "print(confusion_matrix(Y_test, predict))"
   ]
  },
  {
   "cell_type": "markdown",
   "metadata": {},
   "source": [
    "<h2>Multiclass Logistic Regression with Elastic Net</h2>"
   ]
  },
  {
   "cell_type": "markdown",
   "metadata": {},
   "source": [
    "Build an elastic-net regularized logistic regression classfier for this data.\n",
    "•  Elastic-net regularizer takes in 2 parameters: alpha and l1-ratio. Use the following values for alpha:\n",
    "1e-4,3e-4,1e-3,3e-3, 1e-2,3e-2. Use the following values for l1-ratio: 0,0.15,0.5,0.7,1."
   ]
  },
  {
   "cell_type": "code",
   "execution_count": null,
   "metadata": {},
   "outputs": [],
   "source": [
    "# Import libraries\n",
    "from sklearn import linear_model\n",
    "from sklearn import grid_search\n",
    "\n",
    "# Build classifier and parameters\n",
    "classifier = linear_model.SGDClassifier(penalty='elasticnet')\n",
    "\n",
    "parameters = {\n",
    "    'alpha':[0.0001, 0.0003, 0.001, 0.003, 0.01, 0.03], \n",
    "    'l1_ratio':[0, 0.15, 0.5, 0.7, 1]\n",
    "}\n",
    "\n",
    "# User gridsearch to build and fit our model\n",
    "model = grid_search.GridSearchCV(estimator=classifier, param_grid=parameters, cv=10, scoring='f1_macro')"
   ]
  },
  {
   "cell_type": "code",
   "execution_count": null,
   "metadata": {},
   "outputs": [],
   "source": [
    "print(X_train.shape, Y_train.shape)\n",
    "print(type(X_train), type(Y_train))"
   ]
  },
  {
   "cell_type": "code",
   "execution_count": 72,
   "metadata": {},
   "outputs": [
    {
     "ename": "AttributeError",
     "evalue": "'numpy.ndarray' object has no attribute 'values'",
     "output_type": "error",
     "traceback": [
      "\u001b[1;31m---------------------------------------------------------------------------\u001b[0m",
      "\u001b[1;31mAttributeError\u001b[0m                            Traceback (most recent call last)",
      "\u001b[1;32m<ipython-input-72-1596829bdbbc>\u001b[0m in \u001b[0;36m<module>\u001b[1;34m()\u001b[0m\n\u001b[1;32m----> 1\u001b[1;33m \u001b[0mY_train\u001b[0m \u001b[1;33m=\u001b[0m \u001b[0mY_train\u001b[0m\u001b[1;33m.\u001b[0m\u001b[0mvalues\u001b[0m\u001b[1;33m\u001b[0m\u001b[0m\n\u001b[0m\u001b[0;32m      2\u001b[0m \u001b[0mY_train\u001b[0m \u001b[1;33m=\u001b[0m \u001b[0mY_train\u001b[0m\u001b[1;33m.\u001b[0m\u001b[0mreshape\u001b[0m\u001b[1;33m(\u001b[0m\u001b[1;36m7352\u001b[0m\u001b[1;33m,\u001b[0m\u001b[1;33m)\u001b[0m\u001b[1;33m\u001b[0m\u001b[0m\n",
      "\u001b[1;31mAttributeError\u001b[0m: 'numpy.ndarray' object has no attribute 'values'"
     ]
    }
   ],
   "source": [
    "# Convert to numpy array to be able to fit with the model\n",
    "Y_train = Y_train.values\n",
    "Y_train = Y_train.reshape(7352,)\n",
    "Y_test = Y_test.values\n",
    "Y_test = Y_test.reshape(2947,)"
   ]
  },
  {
   "cell_type": "code",
   "execution_count": 74,
   "metadata": {},
   "outputs": [
    {
     "data": {
      "text/plain": [
       "GridSearchCV(cv=10, error_score='raise',\n",
       "       estimator=SGDClassifier(alpha=0.0001, average=False, class_weight=None, epsilon=0.1,\n",
       "       eta0=0.0, fit_intercept=True, l1_ratio=0.15,\n",
       "       learning_rate='optimal', loss='hinge', max_iter=None, n_iter=None,\n",
       "       n_jobs=1, penalty='elasticnet', power_t=0.5, random_state=None,\n",
       "       shuffle=True, tol=None, verbose=0, warm_start=False),\n",
       "       fit_params={}, iid=True, n_jobs=1,\n",
       "       param_grid={'alpha': [0.0001, 0.0003, 0.001, 0.003, 0.01, 0.03], 'l1_ratio': [0, 0.15, 0.5, 0.7, 1]},\n",
       "       pre_dispatch='2*n_jobs', refit=True, scoring='f1_macro', verbose=0)"
      ]
     },
     "execution_count": 74,
     "metadata": {},
     "output_type": "execute_result"
    }
   ],
   "source": [
    "# Fit the model\n",
    "model.fit(X_train, Y_train)"
   ]
  },
  {
   "cell_type": "code",
   "execution_count": 81,
   "metadata": {},
   "outputs": [
    {
     "name": "stdout",
     "output_type": "stream",
     "text": [
      "Best estimator alpha: \t 0.003 \n",
      "Best estimator l1: \t 0.15\n"
     ]
    }
   ],
   "source": [
    "print(\"Best estimator alpha: \\t\", model.best_estimator_.alpha,\n",
    "      \"\\nBest estimator l1: \\t\", model.best_estimator_.l1_ratio)"
   ]
  },
  {
   "cell_type": "markdown",
   "metadata": {},
   "source": [
    "Choose the best values of alpha and l1-ratio using 10-fold cross-validation, based on model F1-score"
   ]
  },
  {
   "cell_type": "code",
   "execution_count": 156,
   "metadata": {},
   "outputs": [
    {
     "name": "stdout",
     "output_type": "stream",
     "text": [
      "Max mean : \t 0.93689 \n",
      "Best alpha :\t 0.003 \n",
      "Best L1 : \t 0.15\n"
     ]
    }
   ],
   "source": [
    "# Iterate through and pull out maximum mean alpha and l1_ratio\n",
    "means = []\n",
    "alpha = []\n",
    "l1_ratio = []\n",
    "number = 0\n",
    "\n",
    "# Loop through to get maximum\n",
    "for number in range(0,30):\n",
    "    means.append(float(str(model.grid_scores_[number]).split(' ')[1][:-1]))\n",
    "    alpha.append(float(str(model.grid_scores_[number]).split(' ')[6][:-1]))\n",
    "    l1_ratio.append(float(str(model.grid_scores_[number]).split(' ')[8][:-1]))\n",
    "    \n",
    "# Loop through to grab the alpha and l1 ratio for the maximum\n",
    "for index, item in enumerate(means):\n",
    "    if item == max(means):\n",
    "        best_alpha = float(str(model.grid_scores_[index]).split(' ')[6][:-1])\n",
    "        best_l1 = float(str(model.grid_scores_[index]).split(' ')[8][:-1])\n",
    "        print(\"Max mean : \\t\", max(means),\n",
    "              \"\\nBest alpha :\\t\", best_alpha,\n",
    "              \"\\nBest L1 : \\t\", best_l1)"
   ]
  },
  {
   "cell_type": "markdown",
   "metadata": {},
   "source": [
    "Draw a surface plot of F1-score with respect to alpha and l1-ratio values."
   ]
  },
  {
   "cell_type": "code",
   "execution_count": 144,
   "metadata": {},
   "outputs": [],
   "source": [
    "# Import packages\n",
    "from mpl_toolkits.mplot3d import Axes3D\n",
    "import matplotlib.pyplot as plt"
   ]
  },
  {
   "cell_type": "code",
   "execution_count": 155,
   "metadata": {},
   "outputs": [
    {
     "data": {
      "image/png": "[encoded data removed]",
      "text/plain": [
       "<Figure size 432x288 with 1 Axes>"
      ]
     },
     "metadata": {},
     "output_type": "display_data"
    }
   ],
   "source": [
    "# Build and plot\n",
    "fig = plt.figure()\n",
    "ax = fig.gca(projection='3d')\n",
    "ax.plot_trisurf(alpha, l1_ratio, means, linewidth=0.1, antialiased=True,cmap=plt.cm.Spectral)\n",
    "ax.set_xlabel('Alpha')\n",
    "ax.set_ylabel('L1-ratio')\n",
    "ax.set_zlabel('F1-score')\n",
    "plt.title('F1-scores x Alpha x L1-ratio')\n",
    "plt.show()"
   ]
  },
  {
   "cell_type": "markdown",
   "metadata": {},
   "source": [
    "Use the best value of alpha and l1-ratio to re-train the model on the training set and use it to predict\n",
    "the labels of the test set. Report the confusion matrix, multi-class averaged F1-score and accuracy."
   ]
  },
  {
   "cell_type": "code",
   "execution_count": 162,
   "metadata": {
    "scrolled": false
   },
   "outputs": [
    {
     "name": "stdout",
     "output_type": "stream",
     "text": [
      "Confusion matrix\n",
      " [[492   0   4   0   0   0]\n",
      " [ 33 434   4   0   0   0]\n",
      " [  8  12 400   0   0   0]\n",
      " [  0   5   0 432  54   0]\n",
      " [  2   0   0  23 507   0]\n",
      " [  0   0   0   0   0 537]] \n",
      "F1-Score:\t 0.9505115902601952 \n",
      "Accuracy:\t 0.9507974211062097\n"
     ]
    }
   ],
   "source": [
    "# Build the best model\n",
    "best_model = SGDClassifier(alpha=best_alpha,l1_ratio=best_l1,random_state=100)\n",
    "\n",
    "# Fit the model\n",
    "best_model.fit(X_train, Y_train)\n",
    "\n",
    "# Predict test labels\n",
    "predicted = best_model.predict(X_test)\n",
    "\n",
    "# Use on test data\n",
    "precision, recall, fscore, support = precision_recall_fscore_support(Y_test, predicted)\n",
    "\n",
    "# Plot confusion matrix\n",
    "print(\"Confusion matrix\\n\", confusion_matrix(Y_test, predicted),\n",
    "      \"\\nF1-Score:\\t\", fscore.mean(),\n",
    "      \"\\nAccuracy:\\t\", accuracy_score(Y_test, predicted))"
   ]
  },
  {
   "cell_type": "markdown",
   "metadata": {},
   "source": [
    "<h2>Support Vector Machine (RBF Kernel)</h2>"
   ]
  },
  {
   "cell_type": "markdown",
   "metadata": {},
   "source": [
    "Build a SVM (with RBF Kernel) classfier for this data.\n",
    "•  SVM with RBF takes 2 parameters: gamma (length scale of the RBF kernel) and C (the cost\n",
    "parameter). Use the following values for gamma: 1e-3, 1e-4. Use the following values for C: 1, 10,\n",
    "100, 1000."
   ]
  },
  {
   "cell_type": "code",
   "execution_count": 164,
   "metadata": {},
   "outputs": [
    {
     "data": {
      "text/plain": [
       "GridSearchCV(cv=10, error_score='raise',\n",
       "       estimator=SVC(C=1.0, cache_size=200, class_weight=None, coef0=0.0,\n",
       "  decision_function_shape='ovr', degree=3, gamma='auto', kernel='rbf',\n",
       "  max_iter=-1, probability=False, random_state=None, shrinking=True,\n",
       "  tol=0.001, verbose=False),\n",
       "       fit_params={}, iid=True, n_jobs=1,\n",
       "       param_grid={'C': [1, 10, 100, 1000], 'gamma': [0.001, 0.0001], 'kernel': ['rbf']},\n",
       "       pre_dispatch='2*n_jobs', refit=True, scoring='f1_macro', verbose=0)"
      ]
     },
     "execution_count": 164,
     "metadata": {},
     "output_type": "execute_result"
    }
   ],
   "source": [
    "# Import packages\n",
    "from sklearn import svm\n",
    "\n",
    "# Build Support Vector Machine\n",
    "svm_rbf = svm.SVC(kernel='rbf')\n",
    "\n",
    "# Build parameter dictionary\n",
    "parameters = {'C':[1,10,100,1000], 'gamma': [0.001, 0.0001], 'kernel': ['rbf']}\n",
    "\n",
    "# Build SVM model\n",
    "svm_model = grid_search.GridSearchCV(estimator=svm_rbf, param_grid=parameters, cv=10, scoring='f1_macro')\n",
    "\n",
    "# Fit the model\n",
    "svm_model.fit(X_train, Y_train)"
   ]
  },
  {
   "cell_type": "markdown",
   "metadata": {},
   "source": [
    "Choose the best values of gamma and C using 10-fold cross-validation, based on model F1-score."
   ]
  },
  {
   "cell_type": "code",
   "execution_count": 169,
   "metadata": {},
   "outputs": [
    {
     "name": "stdout",
     "output_type": "stream",
     "text": [
      "Best accuracy : \t 0.94954 \n",
      "Best Cs :\t\t 1000.0 \n",
      "Best gamma : \t\t 0.001\n"
     ]
    }
   ],
   "source": [
    "# Iterate through and find the best value\n",
    "means = []\n",
    "Cs = []\n",
    "gamma = []\n",
    "number = 0\n",
    "\n",
    "# Loop through to get maximum\n",
    "for number in range(0,8):\n",
    "    means.append(float(str(svm_model.grid_scores_[number]).split(' ')[1][:-1]))\n",
    "    Cs.append(float(str(svm_model.grid_scores_[number]).split(' ')[6][:-1]))\n",
    "    gamma.append(float(str(svm_model.grid_scores_[number]).split(' ')[8][:-1]))\n",
    "    \n",
    "# Loop through to grab the alpha and l1 ratio for the maximum\n",
    "for index, item in enumerate(means):\n",
    "    if item == max(means):\n",
    "        best_C = float(str(svm_model.grid_scores_[index]).split(' ')[6][:-1])\n",
    "        best_gamma = float(str(svm_model.grid_scores_[index]).split(' ')[8][:-1])\n",
    "        print(\"Best accuracy : \\t\", max(means),\n",
    "              \"\\nBest Cs :\\t\\t\", best_C,\n",
    "              \"\\nBest gamma : \\t\\t\", best_gamma)"
   ]
  },
  {
   "cell_type": "markdown",
   "metadata": {},
   "source": [
    "Draw a surface plot of F1-score with respect to gamma and C."
   ]
  },
  {
   "cell_type": "code",
   "execution_count": 171,
   "metadata": {},
   "outputs": [
    {
     "data": {
      "image/png": "[encoded data removed]",
      "text/plain": [
       "<Figure size 432x288 with 1 Axes>"
      ]
     },
     "metadata": {},
     "output_type": "display_data"
    }
   ],
   "source": [
    "# Build and plot\n",
    "fig = plt.figure()\n",
    "ax = fig.gca(projection='3d')\n",
    "ax.plot_trisurf(gamma, Cs, means, linewidth=0.1, antialiased=True,cmap=plt.cm.Spectral)\n",
    "ax.set_xlabel('gamma')\n",
    "ax.set_ylabel('Cs')\n",
    "ax.set_zlabel('F1-score')\n",
    "plt.title('F1-scores x C x gamma')\n",
    "plt.show()"
   ]
  },
  {
   "cell_type": "markdown",
   "metadata": {},
   "source": [
    "Use the best value of gamma and C to re-train the model on the training set and use it to predict the\n",
    "labels of the test set. Report the confusion matrix, multi-class averaged F1-score and accuracy."
   ]
  },
  {
   "cell_type": "code",
   "execution_count": 172,
   "metadata": {
    "scrolled": true
   },
   "outputs": [
    {
     "name": "stdout",
     "output_type": "stream",
     "text": [
      "Confusion matrix\n",
      " [[491   0   5   0   0   0]\n",
      " [ 17 453   1   0   0   0]\n",
      " [  3  10 407   0   0   0]\n",
      " [  0   2   0 435  54   0]\n",
      " [  0   0   0  12 520   0]\n",
      " [  0   0   0   0   0 537]] \n",
      "F1-Score:\t 0.9646907009320964 \n",
      "Accuracy:\t 0.9647098744485918\n"
     ]
    }
   ],
   "source": [
    "# Build new \"best\" model\n",
    "svm_best = svm.SVC(C=best_C, gamma=best_gamma, kernel='rbf')\n",
    "\n",
    "# Fit the model\n",
    "svm_best.fit(X_train, Y_train)\n",
    "\n",
    "# Predict labels\n",
    "predicted = svm_best.predict(X_test)\n",
    "\n",
    "# Collect model information\n",
    "precision, recall, fscore, support = precision_recall_fscore_support(Y_test, predicted)\n",
    "\n",
    "# Show the performance\n",
    "print(\"Confusion matrix\\n\", confusion_matrix(Y_test, predicted),\n",
    "      \"\\nF1-Score:\\t\", fscore.mean(),\n",
    "      \"\\nAccuracy:\\t\", accuracy_score(Y_test, predicted))"
   ]
  },
  {
   "cell_type": "markdown",
   "metadata": {},
   "source": [
    "<h2>Random Forest</h2>"
   ]
  },
  {
   "cell_type": "markdown",
   "metadata": {},
   "source": [
    "Build a Random forest classifier for this data.\n",
    "•  Random forest uses two parameters: the tree-depth for each decision tree and the number of trees.\n",
    "Use the following values for the tree-depth: 300,500,600. Use the following values for the number of\n",
    "trees: 200,500,700."
   ]
  },
  {
   "cell_type": "code",
   "execution_count": 175,
   "metadata": {},
   "outputs": [
    {
     "data": {
      "text/plain": [
       "GridSearchCV(cv=10, error_score='raise',\n",
       "       estimator=RandomForestClassifier(bootstrap=True, class_weight=None, criterion='gini',\n",
       "            max_depth=None, max_features='auto', max_leaf_nodes=None,\n",
       "            min_impurity_decrease=0.0, min_impurity_split=None,\n",
       "            min_samples_leaf=1, min_samples_split=2,\n",
       "            min_weight_fraction_leaf=0.0, n_estimators=10, n_jobs=1,\n",
       "            oob_score=False, random_state=None, verbose=0,\n",
       "            warm_start=False),\n",
       "       fit_params={}, iid=True, n_jobs=1,\n",
       "       param_grid={'max_depth': [300, 500, 600], 'n_estimators': [200, 500, 700]},\n",
       "       pre_dispatch='2*n_jobs', refit=True, scoring='f1_macro', verbose=0)"
      ]
     },
     "execution_count": 175,
     "metadata": {},
     "output_type": "execute_result"
    }
   ],
   "source": [
    "# Import packages\n",
    "from sklearn.ensemble import RandomForestClassifier\n",
    "\n",
    "# Initialise classifier\n",
    "RFC = RandomForestClassifier()\n",
    "\n",
    "# Build parameters for gridsearchCV\n",
    "parameters = {'max_depth': [300, 500, 600],'n_estimators': [200, 500, 700]}\n",
    "\n",
    "# Build model\n",
    "RFC_model = grid_search.GridSearchCV(RFC, parameters, cv=10, scoring='f1_macro')\n",
    "\n",
    "# Fit the model\n",
    "RFC_model.fit(X_train, Y_train)"
   ]
  },
  {
   "cell_type": "markdown",
   "metadata": {},
   "source": [
    "Choose the best values of tree-depth and number of trees using 10-fold cross-validation, based on\n",
    "model F1-score."
   ]
  },
  {
   "cell_type": "code",
   "execution_count": 176,
   "metadata": {},
   "outputs": [
    {
     "data": {
      "text/plain": [
       "[mean: 0.92736, std: 0.04849, params: {'max_depth': 300, 'n_estimators': 200},\n",
       " mean: 0.92848, std: 0.04868, params: {'max_depth': 300, 'n_estimators': 500},\n",
       " mean: 0.92856, std: 0.04659, params: {'max_depth': 300, 'n_estimators': 700},\n",
       " mean: 0.92871, std: 0.04647, params: {'max_depth': 500, 'n_estimators': 200},\n",
       " mean: 0.92905, std: 0.04487, params: {'max_depth': 500, 'n_estimators': 500},\n",
       " mean: 0.92871, std: 0.04634, params: {'max_depth': 500, 'n_estimators': 700},\n",
       " mean: 0.92491, std: 0.04560, params: {'max_depth': 600, 'n_estimators': 200},\n",
       " mean: 0.92971, std: 0.04713, params: {'max_depth': 600, 'n_estimators': 500},\n",
       " mean: 0.92909, std: 0.04679, params: {'max_depth': 600, 'n_estimators': 700}]"
      ]
     },
     "execution_count": 176,
     "metadata": {},
     "output_type": "execute_result"
    }
   ],
   "source": [
    "RFC_model.grid_scores_"
   ]
  },
  {
   "cell_type": "code",
   "execution_count": 178,
   "metadata": {},
   "outputs": [
    {
     "name": "stdout",
     "output_type": "stream",
     "text": [
      "Best accuracy : \t 0.92971 \n",
      "Best depth :\t\t 600.0 \n",
      "Best number of trees : \t 500.0\n"
     ]
    }
   ],
   "source": [
    "# Iterate through and find the best value\n",
    "means = []\n",
    "tree_depth = []\n",
    "trees = []\n",
    "number = 0\n",
    "\n",
    "# Loop through to get maximum\n",
    "for number in range(0,9):\n",
    "    means.append(float(str(RFC_model.grid_scores_[number]).split(' ')[1][:-1]))\n",
    "    tree_depth.append(float(str(RFC_model.grid_scores_[number]).split(' ')[6][:-1]))\n",
    "    trees.append(float(str(RFC_model.grid_scores_[number]).split(' ')[8][:-1]))\n",
    "    \n",
    "# Loop through to grab the alpha and l1 ratio for the maximum\n",
    "for index, item in enumerate(means):\n",
    "    if item == max(means):\n",
    "        best_depth = float(str(RFC_model.grid_scores_[index]).split(' ')[6][:-1])\n",
    "        best_num_trees = float(str(RFC_model.grid_scores_[index]).split(' ')[8][:-1])\n",
    "        print(\"Best accuracy : \\t\", max(means),\n",
    "              \"\\nBest depth :\\t\\t\", best_depth,\n",
    "              \"\\nBest number of trees : \\t\", best_num_trees)"
   ]
  },
  {
   "cell_type": "markdown",
   "metadata": {},
   "source": [
    "Draw a surface plot of F1-score with respect to tree-depth and number of trees."
   ]
  },
  {
   "cell_type": "code",
   "execution_count": 179,
   "metadata": {},
   "outputs": [
    {
     "data": {
      "image/png": "[encoded data removed]",
      "text/plain": [
       "<Figure size 432x288 with 1 Axes>"
      ]
     },
     "metadata": {},
     "output_type": "display_data"
    }
   ],
   "source": [
    "# Build and plot\n",
    "fig = plt.figure()\n",
    "ax = fig.gca(projection='3d')\n",
    "ax.plot_trisurf(tree_depth, trees, means, linewidth=0.1, antialiased=True,cmap=plt.cm.Spectral)\n",
    "ax.set_xlabel('tree_depth')\n",
    "ax.set_ylabel('trees')\n",
    "ax.set_zlabel('F1-score')\n",
    "plt.title('F1-scores x C x gamma')\n",
    "plt.show()"
   ]
  },
  {
   "cell_type": "markdown",
   "metadata": {},
   "source": [
    "Use the best value of tree-depth and number of trees to re-train the model on the training set and\n",
    "use it to predict the labels of the test set. Report the confusion matrix, multi-class averaged F1-score\n",
    "and accuracy."
   ]
  },
  {
   "cell_type": "code",
   "execution_count": 181,
   "metadata": {},
   "outputs": [
    {
     "name": "stdout",
     "output_type": "stream",
     "text": [
      "Confusion matrix\n",
      " [[483   5   8   0   0   0]\n",
      " [ 32 432   7   0   0   0]\n",
      " [ 21  44 355   0   0   0]\n",
      " [  0   0   0 433  58   0]\n",
      " [  0   0   0  50 482   0]\n",
      " [  0   0   0   0   0 537]] \n",
      "F1-Score:\t 0.9217857480862691 \n",
      "Accuracy:\t 0.9236511706820495\n"
     ]
    }
   ],
   "source": [
    "# Build new \"best\" model\n",
    "RFC_best = RandomForestClassifier(n_estimators=int(best_num_trees), max_depth=best_depth, random_state=100)\n",
    "\n",
    "# Fit the model\n",
    "RFC_best.fit(X_train, Y_train)\n",
    "\n",
    "# Predict labels\n",
    "predicted = RFC_best.predict(X_test)\n",
    "\n",
    "# Collect model information\n",
    "precision, recall, fscore, support = precision_recall_fscore_support(Y_test, predicted)\n",
    "\n",
    "# Show the performance\n",
    "print(\"Confusion matrix\\n\", confusion_matrix(Y_test, predicted),\n",
    "      \"\\nF1-Score:\\t\", fscore.mean(),\n",
    "      \"\\nAccuracy:\\t\", accuracy_score(Y_test, predicted))"
   ]
  },
  {
   "cell_type": "markdown",
   "metadata": {},
   "source": [
    "<h2>Discussion</h2>"
   ]
  },
  {
   "cell_type": "markdown",
   "metadata": {},
   "source": [
    "<table>\n",
    "  <tr>\n",
    "    <th>Method</th>\n",
    "    <th>F1</th>\n",
    "    <th>Accuracy</th>\n",
    "  </tr>\n",
    "  <tr>\n",
    "    <td>KNN</td>\n",
    "    <td>0.9014</td>\n",
    "    <td>0.9043</td>\n",
    "  </tr>\n",
    "  <tr>\n",
    "    <td>LR with elastic net</td>\n",
    "    <td>0.9505</td>\n",
    "    <td>0.9508</td>\n",
    "  </tr>\n",
    "  <tr>\n",
    "    <td>SVM</td>\n",
    "    <td>0.9647</td>\n",
    "    <td>0.9647</td>\n",
    "  </tr>\n",
    "  <tr>\n",
    "    <td>Random forest</td>\n",
    "    <td>0.9218</td>\n",
    "    <td>0.9237</td>\n",
    "  </tr>\n",
    "</table> "
   ]
  },
  {
   "cell_type": "markdown",
   "metadata": {},
   "source": [
    "The best performance was achieved by the SVM model using the RBF kernel with C of 1000, and gamma of 0.001. Accuracy for this model on training data was 0.94954, showing an increase from training to testing accuracy by around 1.5%. The high accuracy result was due to the model allowing high freedom for the selection of samples as support vectors.\n",
    "\n",
    "Lowest F1 score and accuracy was attained on the KNN model at 0.9014, and 0.9043 respectively.\n",
    "\n",
    "Using a multiclass SVM the paper attained 96% accuracy, which is the same as attained through my SVM model. The difference being Anguita et al. (2013) used a one-versus-all approach, whilst my model used cross validation.\n",
    "\n",
    "To increase accuracy a higher value of 'C' can be used, but this could lead to overfitting and make the model less generalised and less applicable across future expected datasets. The use of an ensemble method can be added through a pipeline to ensure outliers are taken care of prior to the SVM.\n",
    "\n",
    "\n",
    "<h3>References:</h3>\n",
    "\n",
    "Anguita, D., Ghio, Al., Oneto, L., Parra, X. & Reyes-Ortiz, J.L. (2013). A Public Domain Dataset for Human Activity Recognition Using Smartphones. ESANN 2013 proceedings, European Symposion on Artificial Neural Networks, Computational Intelligence and Machine Learning. Bruges (Belgium), 24-26 April 2013."
   ]
  }
 ],
 "metadata": {
  "kernelspec": {
   "display_name": "Python 3 (ipykernel)",
   "language": "python",
   "name": "python3"
  },
  "language_info": {
   "codemirror_mode": {
    "name": "ipython",
    "version": 3
   },
   "file_extension": ".py",
   "mimetype": "text/x-python",
   "name": "python",
   "nbconvert_exporter": "python",
   "pygments_lexer": "ipython3",
   "version": "3.8.10"
  }
 },
 "nbformat": 4,
 "nbformat_minor": 1
}
