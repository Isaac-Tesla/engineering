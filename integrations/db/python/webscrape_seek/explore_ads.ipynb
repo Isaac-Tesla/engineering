{
 "cells": [
  {
   "cell_type": "code",
   "execution_count": 1,
   "metadata": {},
   "outputs": [],
   "source": [
    "import pandas as pd\n",
    "import os\n",
    "pd.set_option('display.max_columns', None)\n",
    "\n",
    "SEARCH_TERMS = [\"cloud-architect\"]\n",
    "CSV_NAME = \"SEEK_JOB_ADS\"\n",
    "DATA_DIR = \"/\".join(os.getcwd().split('/')[1:6]) + '/data'\n",
    "DATA = pd.DataFrame(columns=['JOB_NAME','JOB_TEXT','URL','SALARY_LOW','SALARY_HIGH'])"
   ]
  },
  {
   "cell_type": "code",
   "execution_count": 2,
   "metadata": {},
   "outputs": [],
   "source": [
    "for i in range(0, len(SEARCH_TERMS)):\n",
    "    df = pd.read_csv(f\"/{DATA_DIR}/{CSV_NAME}_{SEARCH_TERMS[i]}.csv\")\n",
    "    DATA = pd.concat([DATA, df])\n",
    "\n",
    "DATA = DATA.apply(lambda x: x.astype(str).str.lower())"
   ]
  },
  {
   "cell_type": "code",
   "execution_count": 3,
   "metadata": {},
   "outputs": [
    {
     "data": {
      "text/html": [
       "<div>\n",
       "<style scoped>\n",
       "    .dataframe tbody tr th:only-of-type {\n",
       "        vertical-align: middle;\n",
       "    }\n",
       "\n",
       "    .dataframe tbody tr th {\n",
       "        vertical-align: top;\n",
       "    }\n",
       "\n",
       "    .dataframe thead th {\n",
       "        text-align: right;\n",
       "    }\n",
       "</style>\n",
       "<table border=\"1\" class=\"dataframe\">\n",
       "  <thead>\n",
       "    <tr style=\"text-align: right;\">\n",
       "      <th></th>\n",
       "      <th>JOB_NAME</th>\n",
       "      <th>JOB_TEXT</th>\n",
       "      <th>URL</th>\n",
       "      <th>SALARY_LOW</th>\n",
       "      <th>SALARY_HIGH</th>\n",
       "      <th>Unnamed: 0</th>\n",
       "    </tr>\n",
       "  </thead>\n",
       "  <tbody>\n",
       "    <tr>\n",
       "      <th>0</th>\n",
       "      <td>gm - architecture</td>\n",
       "      <td>xero is a beautiful easy to use platform that ...</td>\n",
       "      <td>https://www.seek.com.au//job/55239253?type=pro...</td>\n",
       "      <td>150000</td>\n",
       "      <td>999999</td>\n",
       "      <td>0.0</td>\n",
       "    </tr>\n",
       "    <tr>\n",
       "      <th>1</th>\n",
       "      <td>senior solution architect</td>\n",
       "      <td>about the business em does working on world le...</td>\n",
       "      <td>https://www.seek.com.au//job/55336951?type=pro...</td>\n",
       "      <td>150000</td>\n",
       "      <td>999999</td>\n",
       "      <td>0.0</td>\n",
       "    </tr>\n",
       "    <tr>\n",
       "      <th>2</th>\n",
       "      <td>lead cloud architect</td>\n",
       "      <td>an established international cloud consultancy...</td>\n",
       "      <td>https://www.seek.com.au//job/55301782?type=sta...</td>\n",
       "      <td>150000</td>\n",
       "      <td>999999</td>\n",
       "      <td>0.0</td>\n",
       "    </tr>\n",
       "    <tr>\n",
       "      <th>3</th>\n",
       "      <td>solution architect- infrastructure / cloud- ma...</td>\n",
       "      <td>a leading bank based in sydney is seeking an s...</td>\n",
       "      <td>https://www.seek.com.au//job/55315615?type=sta...</td>\n",
       "      <td>150000</td>\n",
       "      <td>999999</td>\n",
       "      <td>0.0</td>\n",
       "    </tr>\n",
       "    <tr>\n",
       "      <th>4</th>\n",
       "      <td>azure cloud architect | iac</td>\n",
       "      <td>azure cloud architect iac amp cicd 150 180k su...</td>\n",
       "      <td>https://www.seek.com.au//job/55293215?type=sta...</td>\n",
       "      <td>150000</td>\n",
       "      <td>999999</td>\n",
       "      <td>0.0</td>\n",
       "    </tr>\n",
       "  </tbody>\n",
       "</table>\n",
       "</div>"
      ],
      "text/plain": [
       "                                            JOB_NAME  \\\n",
       "0                                  gm - architecture   \n",
       "1                          senior solution architect   \n",
       "2                               lead cloud architect   \n",
       "3  solution architect- infrastructure / cloud- ma...   \n",
       "4                        azure cloud architect | iac   \n",
       "\n",
       "                                            JOB_TEXT  \\\n",
       "0  xero is a beautiful easy to use platform that ...   \n",
       "1  about the business em does working on world le...   \n",
       "2  an established international cloud consultancy...   \n",
       "3  a leading bank based in sydney is seeking an s...   \n",
       "4  azure cloud architect iac amp cicd 150 180k su...   \n",
       "\n",
       "                                                 URL SALARY_LOW SALARY_HIGH  \\\n",
       "0  https://www.seek.com.au//job/55239253?type=pro...     150000      999999   \n",
       "1  https://www.seek.com.au//job/55336951?type=pro...     150000      999999   \n",
       "2  https://www.seek.com.au//job/55301782?type=sta...     150000      999999   \n",
       "3  https://www.seek.com.au//job/55315615?type=sta...     150000      999999   \n",
       "4  https://www.seek.com.au//job/55293215?type=sta...     150000      999999   \n",
       "\n",
       "  Unnamed: 0  \n",
       "0        0.0  \n",
       "1        0.0  \n",
       "2        0.0  \n",
       "3        0.0  \n",
       "4        0.0  "
      ]
     },
     "execution_count": 3,
     "metadata": {},
     "output_type": "execute_result"
    }
   ],
   "source": [
    "DATA.head()"
   ]
  },
  {
   "cell_type": "code",
   "execution_count": 4,
   "metadata": {},
   "outputs": [
    {
     "data": {
      "text/plain": [
       "1     https://www.seek.com.au//job/55336951?type=pro...\n",
       "3     https://www.seek.com.au//job/55315615?type=sta...\n",
       "5     https://www.seek.com.au//job/55358914?type=sta...\n",
       "6     https://www.seek.com.au//job/55336235?type=sta...\n",
       "8     https://www.seek.com.au//job/55336951?type=sta...\n",
       "9     https://www.seek.com.au//job/55312737?type=sta...\n",
       "10    https://www.seek.com.au//job/55256136?type=sta...\n",
       "13    https://www.seek.com.au//job/55219405?type=sta...\n",
       "15    https://www.seek.com.au//job/55298366?type=sta...\n",
       "16    https://www.seek.com.au//job/55360114?type=sta...\n",
       "18    https://www.seek.com.au//job/55342032?type=sta...\n",
       "19    https://www.seek.com.au//job/55276474?type=sta...\n",
       "20    https://www.seek.com.au//job/55315366?type=sta...\n",
       "Name: URL, dtype: object"
      ]
     },
     "execution_count": 4,
     "metadata": {},
     "output_type": "execute_result"
    }
   ],
   "source": [
    "# Find the job add with a certain key word\n",
    "KEY_WORD = \"years\"\n",
    "DATA[DATA[\"JOB_TEXT\"].str.contains(KEY_WORD)]['URL']"
   ]
  }
 ],
 "metadata": {
  "interpreter": {
   "hash": "916dbcbb3f70747c44a77c7bcd40155683ae19c65e1c03b4aa3499c5328201f1"
  },
  "kernelspec": {
   "display_name": "Python 3.8.10 64-bit",
   "language": "python",
   "name": "python3"
  },
  "language_info": {
   "codemirror_mode": {
    "name": "ipython",
    "version": 3
   },
   "file_extension": ".py",
   "mimetype": "text/x-python",
   "name": "python",
   "nbconvert_exporter": "python",
   "pygments_lexer": "ipython3",
   "version": "3.8.10"
  },
  "orig_nbformat": 4
 },
 "nbformat": 4,
 "nbformat_minor": 2
}
